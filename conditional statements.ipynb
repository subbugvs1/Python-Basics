{
 "cells": [
  {
   "cell_type": "markdown",
   "metadata": {},
   "source": [
    "###  Conditional Statements\n",
    "Statement Flow Control:  In a program statements may be executed sequentially, selectively or iteratively.  \n",
    "\n",
    "Sequence:\n",
    "The program statements are executed sequentially. \n",
    "Selection:\n",
    "Execution of statements depend on condition.\n",
    "Iteration:\n",
    "Repetition of a set of statements based on a condition.  It is also called looping construct.\n",
    "\n",
    "Python 3 Conditional Statements: If, If Else and Nested If Statements In a Python program, the if statement is how you perform this sort of decision-making. It allows for conditional execution of a statement or group of statements based on the value of an expression."
   ]
  },
  {
   "cell_type": "code",
   "execution_count": 5,
   "metadata": {},
   "outputs": [
    {
     "name": "stdout",
     "output_type": "stream",
     "text": [
      "enter a number: 11\n",
      "Enter a number: 12\n",
      "The result is:  -23\n",
      "program over\n"
     ]
    }
   ],
   "source": [
    "# if condition\n",
    "a=int(input(\"enter a number: \"))\n",
    "b=int(input(\"Enter a number: \"))\n",
    "if a>10 and b<15:\n",
    "    c=(a+b)*(a-b)\n",
    "    print(\"The result is: \", c)\n",
    "print(\"program over\")"
   ]
  },
  {
   "cell_type": "code",
   "execution_count": 8,
   "metadata": {},
   "outputs": [
    {
     "name": "stdout",
     "output_type": "stream",
     "text": [
      "Enter a number: 10\n",
      "You entered a positive number\n"
     ]
    }
   ],
   "source": [
    "# if...else\n",
    "a=int(input(\"Enter a number: \"))\n",
    "if a>0:\n",
    "    print(\"You entered a positive number\")\n",
    "else:\n",
    "    print(\"You entered a negative number\")"
   ]
  },
  {
   "cell_type": "code",
   "execution_count": 10,
   "metadata": {},
   "outputs": [
    {
     "name": "stdout",
     "output_type": "stream",
     "text": [
      "Enter the amount of sales: 9990\n",
      "The discount is:  1050.0\n"
     ]
    }
   ],
   "source": [
    "# calculate discount based on sales\n",
    "sales=int(input(\"Enter the amount of sales: \"))\n",
    "if sales>10000:\n",
    "    discount=sales*0.10\n",
    "    print(\"the discount is: \", discount)\n",
    "else:\n",
    "    disocunt=sales*0.5\n",
    "    print(\"The discount is: \", discount)"
   ]
  },
  {
   "cell_type": "code",
   "execution_count": 13,
   "metadata": {},
   "outputs": [
    {
     "name": "stdout",
     "output_type": "stream",
     "text": [
      "Enter first number: 10\n",
      "Enter second number: 50\n",
      "Enter the third number: 20\n",
      "The second number is bigger\n"
     ]
    }
   ],
   "source": [
    "# to find a bigger number \n",
    "x=int(input(\"Enter first number: \"))\n",
    "y=int(input(\"Enter second number: \"))\n",
    "z=int(input(\"Enter the third number: \"))\n",
    "max=x\n",
    "if y>max:\n",
    "    if y>z:\n",
    "        print(\"The second number is bigger\")\n",
    "if z>max:\n",
    "    if z>y:\n",
    "        print(\"The third number is bigger\")\n",
    "else:\n",
    "    print(\"The first number is bigger\")"
   ]
  },
  {
   "cell_type": "code",
   "execution_count": 15,
   "metadata": {},
   "outputs": [
    {
     "name": "stdout",
     "output_type": "stream",
     "text": [
      "Enter a number: 13\n",
      "The number you entered is odd\n"
     ]
    }
   ],
   "source": [
    "# To find a number is odd or even\n",
    "x=int(input(\"Enter a number: \"))\n",
    "if x%2==0:\n",
    "    print(\"the number you enetered is even\")\n",
    "else:\n",
    "    print(\"The number you entered is odd\")"
   ]
  },
  {
   "cell_type": "code",
   "execution_count": 18,
   "metadata": {},
   "outputs": [
    {
     "name": "stdout",
     "output_type": "stream",
     "text": [
      "Enter first number: 10\n",
      "Enter second number20\n",
      "10 is not divisble by 20\n"
     ]
    }
   ],
   "source": [
    "# To check the number divisble with another number\n",
    "num1=int(input(\"Enter first number: \"))\n",
    "num2=int(input(\"Enter second number\"))\n",
    "rem=num1%num2\n",
    "if rem==0:\n",
    "    print(num1, \"is divisble by\", num2)\n",
    "else:\n",
    "    print(num1, \"is not divisble by\", num2)\n",
    "         \n",
    "        "
   ]
  },
  {
   "cell_type": "code",
   "execution_count": 1,
   "metadata": {},
   "outputs": [],
   "source": [
    "#if..elif"
   ]
  },
  {
   "cell_type": "code",
   "execution_count": 5,
   "metadata": {},
   "outputs": [
    {
     "name": "stdout",
     "output_type": "stream",
     "text": [
      "Enter the runs scored: 60\n",
      "Player scored 50 runs\n"
     ]
    }
   ],
   "source": [
    "runs=int(input(\"Enter the runs scored: \"))\n",
    "if runs>=100:\n",
    "    print(\"The player scored a century\")\n",
    "elif runs>=50:\n",
    "    print(\"Player scored 50 runs\")\n",
    "else:\n",
    "    print(\"Player did not scored 100 or 50\")"
   ]
  },
  {
   "cell_type": "code",
   "execution_count": 8,
   "metadata": {},
   "outputs": [
    {
     "name": "stdout",
     "output_type": "stream",
     "text": [
      "Enter a charecter or digit: c\n",
      "You entered a lower case letter\n"
     ]
    }
   ],
   "source": [
    "#To check if input is alphabet or number\n",
    "ch=input(\"Enter a charecter or digit: \")\n",
    "if ch>='A' and ch<='Z':\n",
    "    print(\"You entered a uppercase letter\")\n",
    "elif ch>='a' and ch<='z':\n",
    "    print(\"You entered a lower case letter\")\n",
    "elif ch>=0 and ch<=9:\n",
    "    print(\"You entered a digit\")\n",
    "else:\n",
    "    print(\"You entered a special charecter\")"
   ]
  },
  {
   "cell_type": "markdown",
   "metadata": {},
   "source": [
    "### range():\n",
    "used with the for loop.  Generates a list which is a special sequence type. Some sequence types are strings, lists and tuples\n",
    "range(<lower limit>, <upper limit>)"
   ]
  },
  {
   "cell_type": "code",
   "execution_count": 11,
   "metadata": {},
   "outputs": [
    {
     "name": "stdout",
     "output_type": "stream",
     "text": [
      "0\n",
      "3\n",
      "6\n",
      "9\n"
     ]
    }
   ],
   "source": [
    "for i in range(0,10, 3):\n",
    "    print(i)"
   ]
  },
  {
   "cell_type": "code",
   "execution_count": 12,
   "metadata": {},
   "outputs": [
    {
     "name": "stdout",
     "output_type": "stream",
     "text": [
      "10\n",
      "8\n",
      "6\n",
      "4\n",
      "2\n"
     ]
    }
   ],
   "source": [
    "for i in range(10, 1, -2):\n",
    "    print(i)"
   ]
  },
  {
   "cell_type": "markdown",
   "metadata": {},
   "source": [
    "### iteration looping statements:\n",
    "Allows a set of instructions to be performed until a certain condition is satisfied.  The iteration statements are also called loops.  Loops are two types\n",
    "Conditional loops:  The loop repeats until a certain thing happens.  while loop\n",
    "counting loop:  Loop repeats a certian number of times.  for loop"
   ]
  },
  {
   "cell_type": "markdown",
   "metadata": {},
   "source": [
    "### for loop\n",
    "for <variable> in <sequence>:\n",
    "    statements to repeat."
   ]
  },
  {
   "cell_type": "code",
   "execution_count": 13,
   "metadata": {},
   "outputs": [
    {
     "name": "stdout",
     "output_type": "stream",
     "text": [
      "1\n",
      "1\n",
      "4\n",
      "16\n",
      "7\n",
      "49\n"
     ]
    }
   ],
   "source": [
    "for a in [1, 4, 7]:\n",
    "    print(a)\n",
    "    print(a*a)\n"
   ]
  },
  {
   "cell_type": "code",
   "execution_count": 15,
   "metadata": {},
   "outputs": [
    {
     "name": "stdout",
     "output_type": "stream",
     "text": [
      "c\n",
      "a\n",
      "l\n",
      "m\n"
     ]
    }
   ],
   "source": [
    "for ch in 'calm':\n",
    "    print(ch)"
   ]
  },
  {
   "cell_type": "code",
   "execution_count": 16,
   "metadata": {},
   "outputs": [
    {
     "name": "stdout",
     "output_type": "stream",
     "text": [
      "1\n",
      "8\n",
      "27\n"
     ]
    }
   ],
   "source": [
    "for v in [1,2,3]:\n",
    "    print(v*v*v)"
   ]
  },
  {
   "cell_type": "code",
   "execution_count": 18,
   "metadata": {},
   "outputs": [
    {
     "name": "stdout",
     "output_type": "stream",
     "text": [
      "5 x 1 = 5\n",
      "5 x 2 = 10\n",
      "5 x 3 = 15\n",
      "5 x 4 = 20\n",
      "5 x 5 = 25\n",
      "5 x 6 = 30\n",
      "5 x 7 = 35\n",
      "5 x 8 = 40\n",
      "5 x 9 = 45\n",
      "5 x 10 = 50\n"
     ]
    }
   ],
   "source": [
    "#multiplication table using for loop\n",
    "num=5\n",
    "for a in range (1,11):\n",
    "    print(num, 'x', a, '=', num*a)"
   ]
  },
  {
   "cell_type": "markdown",
   "metadata": {},
   "source": [
    "### while loop\n",
    "loop body may contain a single statement or multiple statements will repeat until a condition remain true.\n",
    "while <logical expression>:\n",
    "    loop body\n"
   ]
  },
  {
   "cell_type": "code",
   "execution_count": null,
   "metadata": {},
   "outputs": [],
   "source": [
    "a=5\n",
    "while a>0:\n",
    "    print(\"hello\", a)\n",
    "    a=a-3\n",
    "print(\"loop over\")"
   ]
  },
  {
   "cell_type": "code",
   "execution_count": null,
   "metadata": {},
   "outputs": [],
   "source": []
  }
 ],
 "metadata": {
  "kernelspec": {
   "display_name": "Python 3",
   "language": "python",
   "name": "python3"
  },
  "language_info": {
   "codemirror_mode": {
    "name": "ipython",
    "version": 3
   },
   "file_extension": ".py",
   "mimetype": "text/x-python",
   "name": "python",
   "nbconvert_exporter": "python",
   "pygments_lexer": "ipython3",
   "version": "3.8.5"
  }
 },
 "nbformat": 4,
 "nbformat_minor": 4
}
